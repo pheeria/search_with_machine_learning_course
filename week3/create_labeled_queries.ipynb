{
 "cells": [
  {
   "cell_type": "code",
   "execution_count": 1,
   "metadata": {},
   "outputs": [],
   "source": [
    "import os\n",
    "import argparse\n",
    "import xml.etree.ElementTree as ET\n",
    "import pandas as pd\n",
    "import numpy as np\n",
    "import csv\n",
    "import re\n",
    "\n",
    "categories_file_name = r'/workspace/datasets/product_data/categories/categories_0001_abcat0010000_to_pcmcat99300050000.xml'\n",
    "\n",
    "queries_file_name = r'/workspace/datasets/train.csv'\n",
    "output_file_name = r'/workspace/datasets/labeled_query_data.txt'"
   ]
  },
  {
   "cell_type": "code",
   "execution_count": 2,
   "metadata": {},
   "outputs": [],
   "source": [
    "# The root category, named Best Buy with id cat00000, doesn't have a parent.\n",
    "root_category_id = 'cat00000'\n",
    "\n",
    "tree = ET.parse(categories_file_name)\n",
    "root = tree.getroot()\n",
    "\n",
    "# Parse the category XML file to map each category id to its parent category id in a dataframe.\n",
    "categories = []\n",
    "parents = []\n",
    "for child in root:\n",
    "    id = child.find('id').text\n",
    "    cat_path = child.find('path')\n",
    "    cat_path_ids = [cat.find('id').text for cat in cat_path]\n",
    "    leaf_id = cat_path_ids[-1]\n",
    "    if leaf_id != root_category_id:\n",
    "        categories.append(leaf_id)\n",
    "        parents.append(cat_path_ids[-2])\n",
    "parents_df = pd.DataFrame(list(zip(categories, parents)), columns =['category', 'parent'])"
   ]
  },
  {
   "cell_type": "code",
   "execution_count": 3,
   "metadata": {},
   "outputs": [
    {
     "data": {
      "text/html": [
       "<div>\n",
       "<style scoped>\n",
       "    .dataframe tbody tr th:only-of-type {\n",
       "        vertical-align: middle;\n",
       "    }\n",
       "\n",
       "    .dataframe tbody tr th {\n",
       "        vertical-align: top;\n",
       "    }\n",
       "\n",
       "    .dataframe thead th {\n",
       "        text-align: right;\n",
       "    }\n",
       "</style>\n",
       "<table border=\"1\" class=\"dataframe\">\n",
       "  <thead>\n",
       "    <tr style=\"text-align: right;\">\n",
       "      <th></th>\n",
       "      <th>category</th>\n",
       "      <th>parent</th>\n",
       "    </tr>\n",
       "  </thead>\n",
       "  <tbody>\n",
       "    <tr>\n",
       "      <th>0</th>\n",
       "      <td>abcat0010000</td>\n",
       "      <td>cat00000</td>\n",
       "    </tr>\n",
       "    <tr>\n",
       "      <th>1</th>\n",
       "      <td>abcat0011000</td>\n",
       "      <td>abcat0010000</td>\n",
       "    </tr>\n",
       "    <tr>\n",
       "      <th>2</th>\n",
       "      <td>abcat0011001</td>\n",
       "      <td>abcat0011000</td>\n",
       "    </tr>\n",
       "    <tr>\n",
       "      <th>3</th>\n",
       "      <td>abcat0011002</td>\n",
       "      <td>abcat0011000</td>\n",
       "    </tr>\n",
       "    <tr>\n",
       "      <th>4</th>\n",
       "      <td>abcat0011003</td>\n",
       "      <td>abcat0011000</td>\n",
       "    </tr>\n",
       "    <tr>\n",
       "      <th>...</th>\n",
       "      <td>...</td>\n",
       "      <td>...</td>\n",
       "    </tr>\n",
       "    <tr>\n",
       "      <th>4634</th>\n",
       "      <td>pcmcat97200050013</td>\n",
       "      <td>cat15205</td>\n",
       "    </tr>\n",
       "    <tr>\n",
       "      <th>4635</th>\n",
       "      <td>pcmcat97200050015</td>\n",
       "      <td>cat15063</td>\n",
       "    </tr>\n",
       "    <tr>\n",
       "      <th>4636</th>\n",
       "      <td>pcmcat99000050001</td>\n",
       "      <td>pcmcat50000050006</td>\n",
       "    </tr>\n",
       "    <tr>\n",
       "      <th>4637</th>\n",
       "      <td>pcmcat99000050002</td>\n",
       "      <td>pcmcat99000050001</td>\n",
       "    </tr>\n",
       "    <tr>\n",
       "      <th>4638</th>\n",
       "      <td>pcmcat99300050000</td>\n",
       "      <td>cat15063</td>\n",
       "    </tr>\n",
       "  </tbody>\n",
       "</table>\n",
       "<p>4639 rows × 2 columns</p>\n",
       "</div>"
      ],
      "text/plain": [
       "               category             parent\n",
       "0          abcat0010000           cat00000\n",
       "1          abcat0011000       abcat0010000\n",
       "2          abcat0011001       abcat0011000\n",
       "3          abcat0011002       abcat0011000\n",
       "4          abcat0011003       abcat0011000\n",
       "...                 ...                ...\n",
       "4634  pcmcat97200050013           cat15205\n",
       "4635  pcmcat97200050015           cat15063\n",
       "4636  pcmcat99000050001  pcmcat50000050006\n",
       "4637  pcmcat99000050002  pcmcat99000050001\n",
       "4638  pcmcat99300050000           cat15063\n",
       "\n",
       "[4639 rows x 2 columns]"
      ]
     },
     "execution_count": 3,
     "metadata": {},
     "output_type": "execute_result"
    }
   ],
   "source": [
    "parents_df"
   ]
  },
  {
   "cell_type": "code",
   "execution_count": 3,
   "metadata": {},
   "outputs": [],
   "source": [
    "df = pd.read_csv(queries_file_name)[['category', 'query']]\n",
    "df = df[df['category'].isin(categories)]\n",
    "\n",
    "NON_ALPHA = re.compile(r\"[^a-zA-Z0-9_]\")\n",
    "COMBINE_WHITESPACE = re.compile(r\"\\s+\")\n",
    "\n",
    "def transform_name(query: str):\n",
    "    result = query.strip().lower()\n",
    "    result = NON_ALPHA.sub(\" \", result)\n",
    "    result = COMBINE_WHITESPACE.sub(\" \", result)\n",
    "    return result\n",
    "\n",
    "# IMPLEMENT ME: Convert queries to lowercase, and optionally implement other normalization, like stemming.\n",
    "df['query'] = df['query'].apply(transform_name)"
   ]
  },
  {
   "cell_type": "code",
   "execution_count": 4,
   "metadata": {},
   "outputs": [],
   "source": [
    "joined_df = pd.merge(df, parents_df, how=\"inner\", on=\"category\")\n",
    "joined_df['count'] = joined_df.groupby('category')['category'].transform('count')"
   ]
  },
  {
   "cell_type": "code",
   "execution_count": 58,
   "metadata": {},
   "outputs": [
    {
     "data": {
      "text/html": [
       "<div>\n",
       "<style scoped>\n",
       "    .dataframe tbody tr th:only-of-type {\n",
       "        vertical-align: middle;\n",
       "    }\n",
       "\n",
       "    .dataframe tbody tr th {\n",
       "        vertical-align: top;\n",
       "    }\n",
       "\n",
       "    .dataframe thead th {\n",
       "        text-align: right;\n",
       "    }\n",
       "</style>\n",
       "<table border=\"1\" class=\"dataframe\">\n",
       "  <thead>\n",
       "    <tr style=\"text-align: right;\">\n",
       "      <th></th>\n",
       "      <th>category</th>\n",
       "      <th>query</th>\n",
       "      <th>parent</th>\n",
       "      <th>count</th>\n",
       "    </tr>\n",
       "  </thead>\n",
       "  <tbody>\n",
       "    <tr>\n",
       "      <th>1854993</th>\n",
       "      <td>pcmcat235500050003</td>\n",
       "      <td>3ds bundle</td>\n",
       "      <td>pcmcat232900050000</td>\n",
       "      <td>1</td>\n",
       "    </tr>\n",
       "    <tr>\n",
       "      <th>1854994</th>\n",
       "      <td>pcmcat240500050027</td>\n",
       "      <td>camera lighting</td>\n",
       "      <td>pcmcat240500050025</td>\n",
       "      <td>1</td>\n",
       "    </tr>\n",
       "    <tr>\n",
       "      <th>1854995</th>\n",
       "      <td>pcmcat235500050005</td>\n",
       "      <td>portable dvv</td>\n",
       "      <td>pcmcat232900050000</td>\n",
       "      <td>1</td>\n",
       "    </tr>\n",
       "    <tr>\n",
       "      <th>1854996</th>\n",
       "      <td>cat02737</td>\n",
       "      <td>drums</td>\n",
       "      <td>cat02014</td>\n",
       "      <td>1</td>\n",
       "    </tr>\n",
       "    <tr>\n",
       "      <th>1854997</th>\n",
       "      <td>pcmcat221400050013</td>\n",
       "      <td>gen 16 cymbals</td>\n",
       "      <td>pcmcat152100050012</td>\n",
       "      <td>1</td>\n",
       "    </tr>\n",
       "  </tbody>\n",
       "</table>\n",
       "</div>"
      ],
      "text/plain": [
       "                   category            query              parent  count\n",
       "1854993  pcmcat235500050003       3ds bundle  pcmcat232900050000      1\n",
       "1854994  pcmcat240500050027  camera lighting  pcmcat240500050025      1\n",
       "1854995  pcmcat235500050005     portable dvv  pcmcat232900050000      1\n",
       "1854996            cat02737            drums            cat02014      1\n",
       "1854997  pcmcat221400050013   gen 16 cymbals  pcmcat152100050012      1"
      ]
     },
     "execution_count": 58,
     "metadata": {},
     "output_type": "execute_result"
    }
   ],
   "source": [
    "joined_df.tail()"
   ]
  },
  {
   "cell_type": "code",
   "execution_count": 5,
   "metadata": {},
   "outputs": [],
   "source": [
    "joined_df.loc[joined_df['count'] < 1000, 'category'] = joined_df['parent']"
   ]
  },
  {
   "cell_type": "code",
   "execution_count": 6,
   "metadata": {},
   "outputs": [],
   "source": [
    "joined_df['count'] = joined_df.groupby('category')['category'].transform('count')"
   ]
  },
  {
   "cell_type": "code",
   "execution_count": null,
   "metadata": {},
   "outputs": [],
   "source": [
    "while joined_df['count'].min() < 1000:\n",
    "    joined_df = pd.merge(df, parents_df, how=\"inner\", on=\"category\")\n",
    "    joined_df['count'] = joined_df.groupby('category')['category'].transform('count')\n",
    "    joined_df.loc[joined_df['count'] < 1000, 'category'] = joined_df['parent']\n",
    "    joined_df.drop(columns=['parent'])\n",
    "    print(joined_df['count'].min())"
   ]
  },
  {
   "cell_type": "code",
   "execution_count": 8,
   "metadata": {},
   "outputs": [],
   "source": [
    "parents_dict = dict(parents_df.set_index('category')['parent'])"
   ]
  },
  {
   "cell_type": "code",
   "execution_count": 10,
   "metadata": {},
   "outputs": [],
   "source": [
    "category_counts = dict(df.category.value_counts())"
   ]
  },
  {
   "cell_type": "code",
   "execution_count": 31,
   "metadata": {},
   "outputs": [],
   "source": [
    "dct = dict(df.set_index('query').groupby('category').groups)"
   ]
  },
  {
   "cell_type": "code",
   "execution_count": 33,
   "metadata": {},
   "outputs": [
    {
     "data": {
      "text/plain": [
       "Index(['bluray storage', 'dvd rack', 'dvd media tower', 'dvd racks',\n",
       "       'dvd tower', 'video glasses', 'dvd towers', 'cd racks', 'dvd rack',\n",
       "       'glass tv stand', 'media storage', 'dvd holders', 'dvd rack',\n",
       "       'dvd stand', 'tower', 'cd dvd storage', 'dvd shelf', 'dvd cabinets',\n",
       "       'walkie talkie', 'blu ray storage cabinets', 'media tower',\n",
       "       'media tower', 'dvd storage', 'dvd storage', 'blueray stand',\n",
       "       'dvd rack', 'atlantic', 'dvd stand', 'blu ray storage', 'dvd rack',\n",
       "       'dvd racks', 'dvd tower', 'media storage', 'dvd cabinet', 'dvd racks',\n",
       "       'dvd cd vhs racks', 'dvd shelves', 'media rack', 'rack', 'rack',\n",
       "       'atlantic media tower', 'dvd rack', 'dvd rack', 'cd rack',\n",
       "       'media tower', 'dvd rack', 'glass mount', 'dvd racks', 'dvd organizer',\n",
       "       'dvd storage', 'dvd rack', 'media storage', 'cd storage', 'dvd towers',\n",
       "       'dvd rack', 'dvd rack', 'dvd rack', 'dvd tower', 'cd rack',\n",
       "       'media tower', 'media tower', 'media storage', 'dvd storage',\n",
       "       'atlantic blue ray dvd stands', 'media storage', 'dvd stands',\n",
       "       'dvd rack', 'cd tower', 'cd racks', 'stomp the yard', 'dvd stand',\n",
       "       'sliding glass door media', 'dvd', 'dvd rack', '37', 'dvd storage rack',\n",
       "       'sliding glass door dvd', 's video', 'dvd rack', 'dvd tower',\n",
       "       'dvd tower', 'blu ray racks', 'blue ray rack', 'cd racks', 'atlintic'],\n",
       "      dtype='object', name='query')"
      ]
     },
     "execution_count": 33,
     "metadata": {},
     "output_type": "execute_result"
    }
   ],
   "source": [
    "dct['abcat0106010']"
   ]
  }
 ],
 "metadata": {
  "kernelspec": {
   "display_name": "Python 3.9.7 64-bit ('search_with_ml')",
   "language": "python",
   "name": "python3"
  },
  "language_info": {
   "codemirror_mode": {
    "name": "ipython",
    "version": 3
   },
   "file_extension": ".py",
   "mimetype": "text/x-python",
   "name": "python",
   "nbconvert_exporter": "python",
   "pygments_lexer": "ipython3",
   "version": "3.9.7"
  },
  "orig_nbformat": 4,
  "vscode": {
   "interpreter": {
    "hash": "67e596a8a2bf29352050fb333d24bd7b02bfe9fb96f64551bb2b9fad903a30a1"
   }
  }
 },
 "nbformat": 4,
 "nbformat_minor": 2
}
