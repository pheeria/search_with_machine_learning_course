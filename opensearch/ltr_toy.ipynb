{
 "cells": [
  {
   "cell_type": "code",
   "execution_count": 1,
   "metadata": {},
   "outputs": [],
   "source": [
    "import json\n",
    "import tempfile\n",
    "from urllib.parse import urljoin\n",
    "\n",
    "import requests\n",
    "import xgboost as xgb\n",
    "from opensearchpy import OpenSearch\n",
    "import matplotlib.pyplot as plt\n",
    "from xgboost import XGBClassifier, plot_tree"
   ]
  },
  {
   "cell_type": "code",
   "execution_count": 2,
   "metadata": {},
   "outputs": [],
   "source": [
    "host = 'localhost'\n",
    "port = 9200\n",
    "base_url = \"https://{}:{}/\".format(host, port)\n",
    "auth = ('admin', 'admin')  # For testing only. Don't store credentials in code.\n",
    "\n",
    "# Create the client with SSL/TLS enabled, but hostname and certificate verification disabled.\n",
    "client = OpenSearch(\n",
    "    hosts=[{'host': host, 'port': port}],\n",
    "    http_compress=True,  # enables gzip compression for request bodies\n",
    "    http_auth=auth,\n",
    "    use_ssl=True,\n",
    "    verify_certs=False,\n",
    "    ssl_assert_hostname=False,\n",
    "    ssl_show_warn=False,\n",
    ")"
   ]
  },
  {
   "cell_type": "code",
   "execution_count": 3,
   "metadata": {},
   "outputs": [],
   "source": [
    "docs = [\n",
    "    {\n",
    "        \"id\": \"doc_a\",\n",
    "        \"title\": \"Fox and Hounds\",\n",
    "        \"body\": \"The quick red fox jumped over the lazy brown dogs.\",\n",
    "        \"price\": \"5.99\",\n",
    "        \"in_stock\": True,\n",
    "        \"category\": \"childrens\"},\n",
    "    {\n",
    "        \"id\": \"doc_b\",\n",
    "        \"title\": \"Fox wins championship\",\n",
    "        \"body\": \"Wearing all red, the Fox jumped out to a lead in the race over the Dog.\",\n",
    "        \"price\": \"15.13\",\n",
    "        \"in_stock\": True,\n",
    "        \"category\": \"sports\"},\n",
    "    {\n",
    "        \"id\": \"doc_c\",\n",
    "        \"title\": \"Lead Paint Removal\",\n",
    "        \"body\": \"All lead must be removed from the brown and red paint.\",\n",
    "        \"price\": \"150.21\",\n",
    "        \"in_stock\": False,\n",
    "        \"category\": \"instructional\"},\n",
    "    {\n",
    "        \"id\": \"doc_d\",\n",
    "        \"title\": \"The Three Little Pigs Revisited\",\n",
    "        \"price\": \"3.51\",\n",
    "        \"in_stock\": True,\n",
    "        \"body\": \"The big, bad wolf huffed and puffed and blew the house down. The end.\",\n",
    "        \"category\": \"childrens\"},\n",
    "    {\n",
    "        \"id\": \"doc_e\",\n",
    "        \"title\": \"Pigs in a Blanket and Other Recipes\",\n",
    "        \"price\": \"27.50\",\n",
    "        \"in_stock\": True,\n",
    "        \"body\": \"Pigs in a blanket aren't as cute as you would think given it's a food and not actual pigs wrapped in blankets.\",\n",
    "        \"category\": \"instructional\"},\n",
    "    {\n",
    "        \"id\": \"doc_f\",\n",
    "        \"title\": \"Dogs are the best\",\n",
    "        \"body\": \"Dogs beat cats every day of the week and twice on Sunday. A dog is always up for doing something.  Since there are so many dog breeds, there is a dog for everyone!\",\n",
    "        \"price\": \"50.99\",\n",
    "        \"in_stock\": True,\n",
    "        \"category\": \"childrens\"},\n",
    "    {\n",
    "        \"id\": \"doc_g\",\n",
    "        \"title\": \"Dog\",\n",
    "        \"body\": \"Dogs rule\",\n",
    "        \"price\": \"5.99\",\n",
    "        \"in_stock\": True,\n",
    "        \"category\": \"childrens\"},\n",
    "    {\n",
    "        \"id\": \"doc_h\",\n",
    "        \"title\": \"Dog: The bounty hunter: living in the red\",\n",
    "        \"body\": \"Dog is a bounty hunter who goes on pretend missions with his friends, one of whom is the Fox\",\n",
    "        \"price\": \"125.99\",\n",
    "        \"in_stock\": True,\n",
    "        \"category\": \"sports\"},\n",
    "]"
   ]
  },
  {
   "cell_type": "code",
   "execution_count": 4,
   "metadata": {},
   "outputs": [],
   "source": [
    "index_name = 'searchml_ltr'\n",
    "index_body = {\n",
    "    'settings': {\n",
    "        'index': {\n",
    "            'query': {\n",
    "                'default_field': \"body\"\n",
    "            }\n",
    "        }\n",
    "    },\n",
    "    \"mappings\": {\n",
    "        \"properties\": {\n",
    "            \"title\": {\"type\": \"text\", \"analyzer\": \"english\"},\n",
    "            \"body\": {\"type\": \"text\", \"analyzer\": \"english\"},\n",
    "            \"in_stock\": {\"type\": \"boolean\"},\n",
    "            \"category\": {\"type\": \"keyword\", \"ignore_above\": \"256\"},\n",
    "            \"price\": {\"type\": \"float\"}\n",
    "        }\n",
    "    }\n",
    "}"
   ]
  },
  {
   "cell_type": "code",
   "execution_count": 5,
   "metadata": {},
   "outputs": [
    {
     "name": "stdout",
     "output_type": "stream",
     "text": [
      "Indexing our documents\n",
      "\tIndexing doc_a\n",
      "\tIndexing doc_b\n",
      "\tIndexing doc_c\n",
      "\tIndexing doc_d\n",
      "\tIndexing doc_e\n",
      "\tIndexing doc_f\n",
      "\tIndexing doc_g\n",
      "\tIndexing doc_h\n",
      "We indexed:\n",
      "epoch      timestamp count\n",
      "1656286715 23:38:35  8\n",
      "\n"
     ]
    }
   ],
   "source": [
    "client.indices.delete(index_name, ignore_unavailable=True)\n",
    "client.indices.create(index_name, body=index_body)\n",
    "\n",
    "print(\"Indexing our documents\")\n",
    "for doc in docs:\n",
    "    doc_id = doc[\"id\"]\n",
    "    print(\"\\tIndexing {}\".format(doc_id))\n",
    "    client.index(\n",
    "        index=index_name,\n",
    "        body=doc,\n",
    "        id=doc_id,\n",
    "        refresh=True\n",
    "    )\n",
    "\n",
    "print(\"We indexed:\\n{}\".format(client.cat.count(index_name, params={\"v\": \"true\"})))"
   ]
  },
  {
   "cell_type": "code",
   "execution_count": 6,
   "metadata": {},
   "outputs": [
    {
     "name": "stdout",
     "output_type": "stream",
     "text": [
      "Create our LTR store\n",
      "\tDeleted old store response status: 200\n",
      "\tCreate the new store response status: 200\n"
     ]
    }
   ],
   "source": [
    "ltr_store_name = index_name\n",
    "ltr_store_path = \"_ltr/\" + ltr_store_name\n",
    "\n",
    "print(\"Create our LTR store\")\n",
    "# LTR requests are not supported by the OpenSearchPy client, so we will drop down to using Python's Requests library\n",
    "ltr_model_path = urljoin(base_url, ltr_store_path)\n",
    "# Delete any old storage\n",
    "resp = requests.delete(ltr_model_path, auth=auth, verify=False)\n",
    "print(\"\\tDeleted old store response status: %s\" % resp.status_code)\n",
    "# Create our new LTR storage\n",
    "resp = requests.put(ltr_model_path, auth=auth, verify=False)\n",
    "print(\"\\tCreate the new store response status: %s\" % resp.status_code)\n"
   ]
  },
  {
   "cell_type": "code",
   "execution_count": 7,
   "metadata": {},
   "outputs": [
    {
     "name": "stdout",
     "output_type": "stream",
     "text": [
      "\tUpload our features to the LTR storage\n"
     ]
    }
   ],
   "source": [
    "featureset_name = \"ltr_toy\"\n",
    "headers = {\"Content-Type\": 'application/json'}\n",
    "featureset_path = urljoin(ltr_model_path + \"/\", \"_featureset/{}\".format(featureset_name))\n",
    "# Upload our feature set to our model\n",
    "body_query_feature_name = \"body_query\"\n",
    "title_query_feature_name = \"title_query\"\n",
    "price_func_feature_name = \"price_func\"\n",
    "print(\"\\tUpload our features to the LTR storage\")\n",
    "ltr_feature_set = {\"featureset\": {\n",
    "    \"features\": [\n",
    "        {  # Instead of using our multifield query_string match, break it out into parts\n",
    "            \"name\": title_query_feature_name,\n",
    "            \"params\": [\"keywords\"],\n",
    "            \"template_language\": \"mustache\",\n",
    "            \"template\": {\n",
    "                \"match\": {\n",
    "                    \"title\": \"{{keywords}}\"\n",
    "                }\n",
    "            }\n",
    "        },\n",
    "        {  # Instead of using our multifield query_string match, break it out into parts\n",
    "            \"name\": body_query_feature_name,\n",
    "            \"params\": [\"keywords\"],\n",
    "            \"template_language\": \"mustache\",\n",
    "            \"template\": {\n",
    "                \"match\": {\n",
    "                    \"body\": \"{{keywords}}\"\n",
    "                }\n",
    "            }\n",
    "        },\n",
    "        # factor in price, albeit naively for this purpose, in practice we should normalize it, which we will do in the project!\n",
    "        {\n",
    "            \"name\": (\"%s\" % price_func_feature_name),\n",
    "            \"template_language\": \"mustache\",\n",
    "            \"template\": {\n",
    "                \"function_score\": {\n",
    "                    \"functions\": [{\n",
    "                        \"field_value_factor\": {\n",
    "                            \"field\": \"price\",\n",
    "                            \"missing\": 0\n",
    "                        }\n",
    "                    }],\n",
    "                    \"query\": {\n",
    "                        \"match_all\": {}\n",
    "                    }\n",
    "                }\n",
    "            }\n",
    "\n",
    "        }\n",
    "    ]\n",
    "}}\n",
    "resp = requests.post(featureset_path, headers=headers, data=json.dumps(ltr_feature_set), auth=auth, verify=False)"
   ]
  },
  {
   "cell_type": "code",
   "execution_count": 8,
   "metadata": {},
   "outputs": [],
   "source": [
    "class Judgment:\n",
    "    def __init__(self, query, doc_id, display_name, grade=0, features=[], query_str=None):\n",
    "        self.query = query\n",
    "        self.query_str = query_str\n",
    "        self.doc_id = doc_id\n",
    "        self.display_name = display_name\n",
    "        self.grade = grade\n",
    "        self.features = features\n",
    "\n",
    "    # Modified from https://github.com/o19s/elasticsearch-ltr-demo/blob/master/train/judgments.py\n",
    "    def toXGBFormat(self):\n",
    "        featuresAsStrs = [\"%s:%s\" % (idx + 1, feature.get('value', 0)) for idx, feature in enumerate(self.features)]\n",
    "        comment = \"# %s\\t%s\" % (self.doc_id, self.query_str)\n",
    "        return \"%s\\tqid:%s\\t%s %s\" % (self.grade, self.query, \"\\t\".join(featuresAsStrs), comment)"
   ]
  },
  {
   "cell_type": "code",
   "execution_count": 9,
   "metadata": {},
   "outputs": [
    {
     "name": "stdout",
     "output_type": "stream",
     "text": [
      "################\n",
      "Executing search: qid: 1; query: dogs\n",
      "##########\n",
      "For each hit answer the question: 'Is this hit relevant(1) or not relevant(0) to the query: dogs?':\n",
      "\n",
      "Title: Dog\n",
      "Body: Dogs rule\n",
      "\n",
      "################\n",
      "Executing search: qid: 2; query: red fox\n",
      "##########\n",
      "For each hit answer the question: 'Is this hit relevant(1) or not relevant(0) to the query: red fox?':\n",
      "\n",
      "Title: Fox and Hounds\n",
      "Body: The quick red fox jumped over the lazy brown dogs.\n",
      "\n",
      "################\n",
      "Executing search: qid: 3; query: wolf huffed AND puffed OR pig\n",
      "##########\n",
      "For each hit answer the question: 'Is this hit relevant(1) or not relevant(0) to the query: wolf huffed AND puffed OR pig?':\n",
      "\n",
      "Title: The Three Little Pigs Revisited\n",
      "Body: The big, bad wolf huffed and puffed and blew the house down. The end.\n",
      "\n"
     ]
    }
   ],
   "source": [
    "queries = {1: \"dogs\", 2: \"red fox\", 3: \"wolf huffed AND puffed OR pig\"}\n",
    "# A map where the key is the query id and the value is a list of judgments, one per document rated for that query\n",
    "judgments = {}\n",
    "\n",
    "# Loop over queries, execute a search\n",
    "for query in queries:\n",
    "    # Used to get the original queries to create the judgments\n",
    "    query_obj = {\n",
    "        'size': 5,\n",
    "        'query': {\n",
    "            'multi_match': {\n",
    "                'query': queries[query],\n",
    "                'fields': ['title^2', 'body']\n",
    "            }\n",
    "        }\n",
    "    }\n",
    "    print(\"################\\nExecuting search: qid: {}; query: {}\\n##########\".format(query, queries[query]))\n",
    "    response = client.search(body=query_obj, index=index_name)\n",
    "    hits = response['hits']['hits']\n",
    "    if len(hits) > 0:\n",
    "        print(\n",
    "            \"For each hit answer the question: 'Is this hit relevant(1) or not relevant(0) to the query: {}?':\".format(\n",
    "                queries[query]))\n",
    "        judge_vals = judgments.get(query)\n",
    "        if judge_vals is None:\n",
    "            judge_vals = []\n",
    "            judgments[query] = judge_vals\n",
    "        for hit in hits:\n",
    "            print(\"\\nTitle: {}\\nBody: {}\\n\".format(hit['_source']['title'], hit['_source']['body']))\n",
    "            answer = input(\"Enter 0 or 1:\")\n",
    "            grade = answer.rstrip()\n",
    "            if grade == \"0\" or grade == \"1\":\n",
    "                judgment = Judgment(query, hit['_id'], hit['_source']['title'], int(grade))\n",
    "                judge_vals.append(judgment)\n",
    "                break\n",
    "            elif grade == \"skip\" or grade == \"s\":\n",
    "                break\n",
    "            elif grade == \"exit\" or grade == 'e':\n",
    "                answer = grade  # set this back to the trimmed grade so we can exit the outer loop.  Very clunky!\n",
    "                break\n",
    "            if answer == \"exit\" or answer == \"e\":\n",
    "                break  # break out of hits, this is ugly, but OK for what we are doing here\n"
   ]
  },
  {
   "cell_type": "code",
   "execution_count": 10,
   "metadata": {},
   "outputs": [
    {
     "name": "stdout",
     "output_type": "stream",
     "text": [
      "{'took': 29, 'timed_out': False, '_shards': {'total': 1, 'successful': 1, 'skipped': 0, 'failed': 0}, 'hits': {'total': {'value': 1, 'relation': 'eq'}, 'max_score': 0.0, 'hits': [{'_index': 'searchml_ltr', '_type': '_doc', '_id': 'doc_g', '_score': 0.0, '_source': {'id': 'doc_g', 'title': 'Dog', 'body': 'Dogs rule', 'price': '5.99', 'in_stock': True, 'category': 'childrens'}, 'fields': {'_ltrlog': [{'log_entry': [{'name': 'title_query', 'value': 1.2986346}, {'name': 'body_query', 'value': 0.7342377}, {'name': 'price_func', 'value': 5.99}]}]}, 'matched_queries': ['logged_featureset']}]}}\n",
      "1\tqid:1\t1:1.2986346\t2:0.7342377\t3:5.99 # doc_g\tNone\n",
      "\n",
      "{'took': 4, 'timed_out': False, '_shards': {'total': 1, 'successful': 1, 'skipped': 0, 'failed': 0}, 'hits': {'total': {'value': 1, 'relation': 'eq'}, 'max_score': 0.0, 'hits': [{'_index': 'searchml_ltr', '_type': '_doc', '_id': 'doc_a', '_score': 0.0, '_source': {'id': 'doc_a', 'title': 'Fox and Hounds', 'body': 'The quick red fox jumped over the lazy brown dogs.', 'price': '5.99', 'in_stock': True, 'category': 'childrens'}, 'fields': {'_ltrlog': [{'log_entry': [{'name': 'title_query', 'value': 1.4831866}, {'name': 'body_query', 'value': 2.0752847}, {'name': 'price_func', 'value': 5.99}]}]}, 'matched_queries': ['logged_featureset']}]}}\n",
      "0\tqid:2\t1:1.4831866\t2:2.0752847\t3:5.99 # doc_a\tNone\n",
      "\n",
      "{'took': 4, 'timed_out': False, '_shards': {'total': 1, 'successful': 1, 'skipped': 0, 'failed': 0}, 'hits': {'total': {'value': 1, 'relation': 'eq'}, 'max_score': 0.0, 'hits': [{'_index': 'searchml_ltr', '_type': '_doc', '_id': 'doc_d', '_score': 0.0, '_source': {'id': 'doc_d', 'title': 'The Three Little Pigs Revisited', 'price': '3.51', 'in_stock': True, 'body': 'The big, bad wolf huffed and puffed and blew the house down. The end.', 'category': 'childrens'}, 'fields': {'_ltrlog': [{'log_entry': [{'name': 'title_query', 'value': 1.1272218}, {'name': 'body_query', 'value': 5.657528}, {'name': 'price_func', 'value': 3.51}]}]}, 'matched_queries': ['logged_featureset']}]}}\n",
      "1\tqid:3\t1:1.1272218\t2:5.657528\t3:3.51 # doc_d\tNone\n",
      "\n"
     ]
    }
   ],
   "source": [
    "train_file = tempfile.NamedTemporaryFile(delete=False)\n",
    "# Log our features by sending our query and it's judged documents to OpenSearch\n",
    "for judge_vals in judgments.values():\n",
    "    # create a new SLTR query with an appropriate filter query\n",
    "    doc_ids = []\n",
    "    for judgment in judge_vals:\n",
    "        # Note: we are executing one query per judgment doc id here because it's easier, but we could do this\n",
    "        # by adding all the doc ids for this query and scoring them all at once and cut our number of queries down\n",
    "        # significantly\n",
    "        # Create our SLTR query, filtering so we only retrieve the doc id in question\n",
    "        query_obj = {\n",
    "            'query': {\n",
    "                'bool': {\n",
    "                    \"filter\": [  # use a filter so that we don't actually score anything\n",
    "                        {\n",
    "                            \"terms\": {\n",
    "                                \"_id\": [judgment.doc_id]\n",
    "                            }\n",
    "                        },\n",
    "                        {  # use the LTR query bring in the LTR feature set\n",
    "                            \"sltr\": {\n",
    "                                \"_name\": \"logged_featureset\",\n",
    "                                \"featureset\": featureset_name,\n",
    "                                \"store\": ltr_store_name,\n",
    "                                \"params\": {\n",
    "                                    \"keywords\": queries[judgment.query]\n",
    "                                }\n",
    "                            }\n",
    "                        }\n",
    "                    ]\n",
    "                }\n",
    "            },\n",
    "            # Turn on feature logging so that we get weights back for our features\n",
    "            \"ext\": {\n",
    "                \"ltr_log\": {\n",
    "                    \"log_specs\": {\n",
    "                        \"name\": \"log_entry\",\n",
    "                        \"named_query\": \"logged_featureset\"\n",
    "                    }\n",
    "                }\n",
    "            }\n",
    "        }\n",
    "        # Run the query just like any other search\n",
    "        response = client.search(body=query_obj, index=index_name)\n",
    "        print(response)\n",
    "        # For each response, extract out the features and build our training features\n",
    "        # We are going to do this by iterating through the hits, which should be in doc_ids order and put the\n",
    "        # values back onto the Judgment object, which has a place to store these.\n",
    "        if response and len(response['hits']) > 0 and len(response['hits']['hits']) == 1:\n",
    "            hits = response['hits']['hits']\n",
    "            # there should only be one hit\n",
    "            judgment.features = hits[0]['fields']['_ltrlog'][0]['log_entry']\n",
    "            # \t\t<grade> qid:<query_id> <feature_number>:<weight>... # <doc_id> <comments>\n",
    "            # see https://xgboost.readthedocs.io/en/latest/tutorials/input_format.html\n",
    "            xgb_format = judgment.toXGBFormat() + \"\\n\"\n",
    "            print(xgb_format)\n",
    "            train_file.write(bytes(xgb_format, 'utf-8'))\n",
    "        else:\n",
    "            print(\"Weirdness. Fix\")\n",
    "\n",
    "train_file.close()\n"
   ]
  },
  {
   "cell_type": "code",
   "execution_count": 11,
   "metadata": {},
   "outputs": [
    {
     "name": "stdout",
     "output_type": "stream",
     "text": [
      "Training XG Boost\n",
      "[23:38:43] WARNING: ../src/objective/regression_obj.cu:203: reg:linear is now deprecated in favor of reg:squarederror.\n",
      "[23:38:43] WARNING: ../src/learner.cc:627: \n",
      "Parameters: { \"silent\" } might not be used.\n",
      "\n",
      "  This could be a false alarm, with some parameters getting used by language bindings but\n",
      "  then being mistakenly passed down to XGBoost core, or some parameter actually being used\n",
      "  but getting flagged wrongly here. Please open an issue if you find any such cases.\n",
      "\n",
      "\n"
     ]
    }
   ],
   "source": [
    "feat_map_file = tempfile.NamedTemporaryFile(delete=False)\n",
    "feat_map_file.write(bytes(\"0\\tna\\tq\\n\", \"utf-8\"))\n",
    "feat_map_file.write(bytes('1\\t{}\\tq\\n'.format(title_query_feature_name), 'utf-8'))\n",
    "feat_map_file.write(bytes('2\\t{}\\tq\\n'.format(body_query_feature_name), 'utf-8'))\n",
    "feat_map_file.write(bytes('3\\t{}\\tq\\n'.format(price_func_feature_name), 'utf-8'))\n",
    "feat_map_file.close()\n",
    "\n",
    "dtrain = xgb.DMatrix(train_file.name)\n",
    "param = {'max_depth': 5,  'silent': 1, 'objective': 'reg:linear'}\n",
    "num_round = 5\n",
    "print(\"Training XG Boost\")\n",
    "bst = xgb.train(param, dtrain, num_round)  # Do the training.  NOTE: in this toy example we did not use any hold out data\n",
    "model = bst.get_dump(fmap=feat_map_file.name, dump_format='json')"
   ]
  },
  {
   "cell_type": "code",
   "execution_count": 12,
   "metadata": {},
   "outputs": [
    {
     "name": "stdout",
     "output_type": "stream",
     "text": [
      "Uploading our model to https://localhost:9200/_ltr/searchml_ltr/_featureset/ltr_toy/_createmodel\n",
      "\tResponse: <Response [201]>\n"
     ]
    }
   ],
   "source": [
    "# We need to escape entries for uploading to OpenSearch, per the docs\n",
    "model_str = '[' + ','.join(list(model)) + ']'\n",
    "\n",
    "# Create our metadata for uploading the model\n",
    "model_name = \"ltr_toy_model\"\n",
    "\n",
    "os_model = {\n",
    "    \"model\": {\n",
    "        \"name\": model_name,\n",
    "        \"model\": {\n",
    "            \"type\": \"model/xgboost+json\",\n",
    "            \"definition\": '{\"objective\":\"reg:linear\", \"splits\":' + model_str + '}'\n",
    "        }\n",
    "    }\n",
    "}\n",
    "\n",
    "model_path = urljoin(featureset_path + \"/\", \"_createmodel\")\n",
    "print(\"Uploading our model to %s\" % model_path)\n",
    "response = requests.post(model_path, data=json.dumps(os_model), headers=headers, auth=auth, verify=False)\n",
    "print(\"\\tResponse: %s\" % response)"
   ]
  },
  {
   "cell_type": "code",
   "execution_count": 13,
   "metadata": {},
   "outputs": [
    {
     "name": "stdout",
     "output_type": "stream",
     "text": [
      "Search with baseline\n",
      "doc_g 2.5972693 Dog\n",
      "doc_f 2.1871743 Dogs are the best\n",
      "doc_h 1.484154 Dog: The bounty hunter: living in the red\n",
      "doc_a 0.5410643 Fox and Hounds\n",
      "doc_b 0.49743986 Fox wins championship\n"
     ]
    }
   ],
   "source": [
    "print(\"Search with baseline\")\n",
    "query_obj = {\n",
    "    'query': {\n",
    "        'multi_match': {\n",
    "            'query': queries[1],\n",
    "            'fields': ['title^2', 'body']\n",
    "        }\n",
    "    },\n",
    "}\n",
    "response = client.search(body=query_obj, index=index_name)\n",
    "for hit in response[\"hits\"][\"hits\"]:\n",
    "    print(hit[\"_id\"], hit[\"_score\"], hit[\"_source\"][\"title\"])"
   ]
  },
  {
   "cell_type": "code",
   "execution_count": 14,
   "metadata": {},
   "outputs": [
    {
     "name": "stdout",
     "output_type": "stream",
     "text": [
      "Search with LTR\n",
      "doc_g 3.2695894 Dog\n",
      "doc_f 2.8594944 Dogs are the best\n",
      "doc_h 2.156474 Dog: The bounty hunter: living in the red\n",
      "doc_a 1.2133844 Fox and Hounds\n",
      "doc_b 1.16976 Fox wins championship\n"
     ]
    }
   ],
   "source": [
    "print(\"Search with LTR\")\n",
    "query_obj[\"rescore\"] = {\n",
    "    \"window_size\": 10,\n",
    "    \"query\": {\n",
    "        \"rescore_query\": {\n",
    "            \"sltr\": {\n",
    "                \"params\": {\n",
    "                    \"keywords\": queries[1]\n",
    "                },\n",
    "                \"model\": model_name,\n",
    "                # Since we are using a named store, as opposed to simply '_ltr', we need to pass it in\n",
    "                \"store\": ltr_store_name,\n",
    "                \"active_features\": [title_query_feature_name, body_query_feature_name, price_func_feature_name]\n",
    "            }\n",
    "        },\n",
    "        \"rescore_query_weight\": \"2\" # Magic number, but let's say LTR matches are 2x baseline matches\n",
    "    }\n",
    "}\n",
    "response = client.search(body=query_obj, index=index_name)\n",
    "for hit in response[\"hits\"][\"hits\"]:\n",
    "    print(hit[\"_id\"], hit[\"_score\"], hit[\"_source\"][\"title\"])"
   ]
  },
  {
   "cell_type": "code",
   "execution_count": 15,
   "metadata": {},
   "outputs": [
    {
     "data": {
      "image/png": "[encoded data removed]",
      "text/plain": [
       "<Figure size 432x288 with 1 Axes>"
      ]
     },
     "metadata": {
      "needs_background": "light"
     },
     "output_type": "display_data"
    }
   ],
   "source": [
    "model_plot = plot_tree(bst, feat_map_file.name)\n",
    "model_plot.figure.savefig(\"ltr_toy_model.png\")\n",
    "# If you are running in an environment other than Gitpod that can display things, you can also uncomment the next line:\n",
    "plt.show()"
   ]
  }
 ],
 "metadata": {
  "kernelspec": {
   "display_name": "Python 3.9.7 64-bit ('search_with_ml')",
   "language": "python",
   "name": "python3"
  },
  "language_info": {
   "codemirror_mode": {
    "name": "ipython",
    "version": 3
   },
   "file_extension": ".py",
   "mimetype": "text/x-python",
   "name": "python",
   "nbconvert_exporter": "python",
   "pygments_lexer": "ipython3",
   "version": "3.9.7"
  },
  "orig_nbformat": 4,
  "vscode": {
   "interpreter": {
    "hash": "67e596a8a2bf29352050fb333d24bd7b02bfe9fb96f64551bb2b9fad903a30a1"
   }
  }
 },
 "nbformat": 4,
 "nbformat_minor": 2
}
