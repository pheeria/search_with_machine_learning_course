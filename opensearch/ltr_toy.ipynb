{
 "cells": [
  {
   "cell_type": "code",
   "execution_count": 1,
   "metadata": {},
   "outputs": [],
   "source": [
    "import json\n",
    "import sys\n",
    "import tempfile\n",
    "from urllib.parse import urljoin\n",
    "\n",
    "import requests\n",
    "import xgboost as xgb\n",
    "from opensearchpy import OpenSearch\n",
    "import matplotlib.pyplot as plt\n",
    "from xgboost import XGBClassifier, plot_tree"
   ]
  },
  {
   "cell_type": "code",
   "execution_count": 2,
   "metadata": {},
   "outputs": [],
   "source": [
    "host = 'localhost'\n",
    "port = 9200\n",
    "base_url = \"https://{}:{}/\".format(host, port)\n",
    "auth = ('admin', 'admin')  # For testing only. Don't store credentials in code.\n",
    "\n",
    "# Create the client with SSL/TLS enabled, but hostname and certificate verification disabled.\n",
    "client = OpenSearch(\n",
    "    hosts=[{'host': host, 'port': port}],\n",
    "    http_compress=True,  # enables gzip compression for request bodies\n",
    "    http_auth=auth,\n",
    "    use_ssl=True,\n",
    "    verify_certs=False,\n",
    "    ssl_assert_hostname=False,\n",
    "    ssl_show_warn=False,\n",
    ")"
   ]
  },
  {
   "cell_type": "code",
   "execution_count": 3,
   "metadata": {},
   "outputs": [],
   "source": [
    "docs = [\n",
    "    {\n",
    "        \"id\": \"doc_a\",\n",
    "        \"title\": \"Fox and Hounds\",\n",
    "        \"body\": \"The quick red fox jumped over the lazy brown dogs.\",\n",
    "        \"price\": \"5.99\",\n",
    "        \"in_stock\": True,\n",
    "        \"category\": \"childrens\"},\n",
    "    {\n",
    "        \"id\": \"doc_b\",\n",
    "        \"title\": \"Fox wins championship\",\n",
    "        \"body\": \"Wearing all red, the Fox jumped out to a lead in the race over the Dog.\",\n",
    "        \"price\": \"15.13\",\n",
    "        \"in_stock\": True,\n",
    "        \"category\": \"sports\"},\n",
    "    {\n",
    "        \"id\": \"doc_c\",\n",
    "        \"title\": \"Lead Paint Removal\",\n",
    "        \"body\": \"All lead must be removed from the brown and red paint.\",\n",
    "        \"price\": \"150.21\",\n",
    "        \"in_stock\": False,\n",
    "        \"category\": \"instructional\"},\n",
    "    {\n",
    "        \"id\": \"doc_d\",\n",
    "        \"title\": \"The Three Little Pigs Revisited\",\n",
    "        \"price\": \"3.51\",\n",
    "        \"in_stock\": True,\n",
    "        \"body\": \"The big, bad wolf huffed and puffed and blew the house down. The end.\",\n",
    "        \"category\": \"childrens\"},\n",
    "    {\n",
    "        \"id\": \"doc_e\",\n",
    "        \"title\": \"Pigs in a Blanket and Other Recipes\",\n",
    "        \"price\": \"27.50\",\n",
    "        \"in_stock\": True,\n",
    "        \"body\": \"Pigs in a blanket aren't as cute as you would think given it's a food and not actual pigs wrapped in blankets.\",\n",
    "        \"category\": \"instructional\"},\n",
    "    {\n",
    "        \"id\": \"doc_f\",\n",
    "        \"title\": \"Dogs are the best\",\n",
    "        \"body\": \"Dogs beat cats every day of the week and twice on Sunday. A dog is always up for doing something.  Since there are so many dog breeds, there is a dog for everyone!\",\n",
    "        \"price\": \"50.99\",\n",
    "        \"in_stock\": True,\n",
    "        \"category\": \"childrens\"},\n",
    "    {\n",
    "        \"id\": \"doc_g\",\n",
    "        \"title\": \"Dog\",\n",
    "        \"body\": \"Dogs rule\",\n",
    "        \"price\": \"5.99\",\n",
    "        \"in_stock\": True,\n",
    "        \"category\": \"childrens\"},\n",
    "    {\n",
    "        \"id\": \"doc_h\",\n",
    "        \"title\": \"Dog: The bounty hunter: living in the red\",\n",
    "        \"body\": \"Dog is a bounty hunter who goes on pretend missions with his friends, one of whom is the Fox\",\n",
    "        \"price\": \"125.99\",\n",
    "        \"in_stock\": True,\n",
    "        \"category\": \"sports\"},\n",
    "]"
   ]
  },
  {
   "cell_type": "code",
   "execution_count": 4,
   "metadata": {},
   "outputs": [],
   "source": [
    "index_name = 'searchml_ltr'\n",
    "index_body = {\n",
    "    'settings': {\n",
    "        'index': {\n",
    "            'query': {\n",
    "                'default_field': \"body\"\n",
    "            }\n",
    "        }\n",
    "    },\n",
    "    \"mappings\": {\n",
    "        \"properties\": {\n",
    "            \"title\": {\"type\": \"text\", \"analyzer\": \"english\"},\n",
    "            \"body\": {\"type\": \"text\", \"analyzer\": \"english\"},\n",
    "            \"in_stock\": {\"type\": \"boolean\"},\n",
    "            \"category\": {\"type\": \"keyword\", \"ignore_above\": \"256\"},\n",
    "            \"price\": {\"type\": \"float\"}\n",
    "        }\n",
    "    }\n",
    "}"
   ]
  },
  {
   "cell_type": "code",
   "execution_count": 5,
   "metadata": {},
   "outputs": [
    {
     "name": "stdout",
     "output_type": "stream",
     "text": [
      "Indexing our documents\n",
      "\tIndexing doc_a\n",
      "\tIndexing doc_b\n",
      "\tIndexing doc_c\n",
      "\tIndexing doc_d\n",
      "\tIndexing doc_e\n",
      "\tIndexing doc_f\n",
      "\tIndexing doc_g\n",
      "\tIndexing doc_h\n",
      "We indexed:\n",
      "epoch      timestamp count\n",
      "1656272540 19:42:20  8\n",
      "\n"
     ]
    }
   ],
   "source": [
    "client.indices.delete(index_name, ignore_unavailable=True)\n",
    "client.indices.create(index_name, body=index_body)\n",
    "\n",
    "print(\"Indexing our documents\")\n",
    "for doc in docs:\n",
    "    doc_id = doc[\"id\"]\n",
    "    print(\"\\tIndexing {}\".format(doc_id))\n",
    "    client.index(\n",
    "        index=index_name,\n",
    "        body=doc,\n",
    "        id=doc_id,\n",
    "        refresh=True\n",
    "    )\n",
    "\n",
    "print(\"We indexed:\\n{}\".format(client.cat.count(index_name, params={\"v\": \"true\"})))"
   ]
  },
  {
   "cell_type": "code",
   "execution_count": 6,
   "metadata": {},
   "outputs": [
    {
     "name": "stdout",
     "output_type": "stream",
     "text": [
      "Create our LTR store\n",
      "\tDeleted old store response status: 404\n",
      "\tCreate the new store response status: 200\n"
     ]
    }
   ],
   "source": [
    "ltr_store_name = index_name\n",
    "ltr_store_path = \"_ltr/\" + ltr_store_name\n",
    "\n",
    "print(\"Create our LTR store\")\n",
    "# LTR requests are not supported by the OpenSearchPy client, so we will drop down to using Python's Requests library\n",
    "ltr_model_path = urljoin(base_url, ltr_store_path)\n",
    "# Delete any old storage\n",
    "resp = requests.delete(ltr_model_path, auth=auth, verify=False)\n",
    "print(\"\\tDeleted old store response status: %s\" % resp.status_code)\n",
    "# Create our new LTR storage\n",
    "resp = requests.put(ltr_model_path, auth=auth, verify=False)\n",
    "print(\"\\tCreate the new store response status: %s\" % resp.status_code)\n"
   ]
  },
  {
   "cell_type": "code",
   "execution_count": 13,
   "metadata": {},
   "outputs": [
    {
     "name": "stdout",
     "output_type": "stream",
     "text": [
      "\tUpload our features to the LTR storage\n"
     ]
    }
   ],
   "source": [
    "featureset_name = \"ltr_toy\"\n",
    "headers = {\"Content-Type\": 'application/json'}\n",
    "featureset_path = urljoin(ltr_model_path + \"/\", \"_featureset/{}\".format(featureset_name))\n",
    "# Upload our feature set to our model\n",
    "body_query_feature_name = \"body_query\"\n",
    "title_query_feature_name = \"title_query\"\n",
    "price_func_feature_name = \"price_func\"\n",
    "print(\"\\tUpload our features to the LTR storage\")\n",
    "ltr_feature_set = {\"featureset\": {\n",
    "    \"features\": [\n",
    "        {  # Instead of using our multifield query_string match, break it out into parts\n",
    "            \"name\": title_query_feature_name,\n",
    "            \"params\": [\"keywords\"],\n",
    "            \"template_language\": \"mustache\",\n",
    "            \"template\": {\n",
    "                \"match\": {\n",
    "                    \"title\": \"{{keywords}}\"\n",
    "                }\n",
    "            }\n",
    "        },\n",
    "        {  # Instead of using our multifield query_string match, break it out into parts\n",
    "            \"name\": body_query_feature_name,\n",
    "            \"params\": [\"keywords\"],\n",
    "            \"template_language\": \"mustache\",\n",
    "            \"template\": {\n",
    "                \"match\": {\n",
    "                    \"body\": \"{{keywords}}\"\n",
    "                }\n",
    "            }\n",
    "        },\n",
    "        # factor in price, albeit naively for this purpose, in practice we should normalize it, which we will do in the project!\n",
    "        {\n",
    "            \"name\": (\"%s\" % price_func_feature_name),\n",
    "            \"template_language\": \"mustache\",\n",
    "            \"template\": {\n",
    "                \"function_score\": {\n",
    "                    \"functions\": [{\n",
    "                        \"field_value_factor\": {\n",
    "                            \"field\": \"price\",\n",
    "                            \"missing\": 0\n",
    "                        }\n",
    "                    }],\n",
    "                    \"query\": {\n",
    "                        \"match_all\": {}\n",
    "                    }\n",
    "                }\n",
    "            }\n",
    "\n",
    "        }\n",
    "    ]\n",
    "}}\n",
    "resp = requests.post(featureset_path, headers=headers, data=json.dumps(ltr_feature_set), auth=auth, verify=False)"
   ]
  }
 ],
 "metadata": {
  "kernelspec": {
   "display_name": "Python 3.9.7 64-bit ('search_with_ml')",
   "language": "python",
   "name": "python3"
  },
  "language_info": {
   "codemirror_mode": {
    "name": "ipython",
    "version": 3
   },
   "file_extension": ".py",
   "mimetype": "text/x-python",
   "name": "python",
   "nbconvert_exporter": "python",
   "pygments_lexer": "ipython3",
   "version": "3.9.7"
  },
  "orig_nbformat": 4,
  "vscode": {
   "interpreter": {
    "hash": "67e596a8a2bf29352050fb333d24bd7b02bfe9fb96f64551bb2b9fad903a30a1"
   }
  }
 },
 "nbformat": 4,
 "nbformat_minor": 2
}
